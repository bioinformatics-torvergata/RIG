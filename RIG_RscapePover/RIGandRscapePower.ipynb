{
 "cells": [
  {
   "cell_type": "markdown",
   "metadata": {},
   "source": [
    "## RIG score and R-scape power"
   ]
  },
  {
   "cell_type": "code",
   "execution_count": 1,
   "metadata": {},
   "outputs": [],
   "source": [
    "import pandas as pd\n",
    "import os\n",
    "\n",
    "dir_output_rscape = 'RFAMstockhoms_rscapes'\n",
    "dir_output_RIG_RscapePower_plots = 'plots'"
   ]
  },
  {
   "cell_type": "code",
   "execution_count": 2,
   "metadata": {},
   "outputs": [
    {
     "data": {
      "text/html": [
       "<div>\n",
       "<style scoped>\n",
       "    .dataframe tbody tr th:only-of-type {\n",
       "        vertical-align: middle;\n",
       "    }\n",
       "\n",
       "    .dataframe tbody tr th {\n",
       "        vertical-align: top;\n",
       "    }\n",
       "\n",
       "    .dataframe thead th {\n",
       "        text-align: right;\n",
       "    }\n",
       "</style>\n",
       "<table border=\"1\" class=\"dataframe\">\n",
       "  <thead>\n",
       "    <tr style=\"text-align: right;\">\n",
       "      <th></th>\n",
       "      <th>1</th>\n",
       "      <th>2</th>\n",
       "      <th>3</th>\n",
       "      <th>4</th>\n",
       "      <th>5</th>\n",
       "      <th>6</th>\n",
       "      <th>7</th>\n",
       "      <th>8</th>\n",
       "      <th>9</th>\n",
       "      <th>10</th>\n",
       "      <th>...</th>\n",
       "      <th>8386</th>\n",
       "      <th>8387</th>\n",
       "      <th>8388</th>\n",
       "      <th>8389</th>\n",
       "      <th>8390</th>\n",
       "      <th>8391</th>\n",
       "      <th>8392</th>\n",
       "      <th>8393</th>\n",
       "      <th>8394</th>\n",
       "      <th>8395</th>\n",
       "    </tr>\n",
       "    <tr>\n",
       "      <th>0</th>\n",
       "      <th></th>\n",
       "      <th></th>\n",
       "      <th></th>\n",
       "      <th></th>\n",
       "      <th></th>\n",
       "      <th></th>\n",
       "      <th></th>\n",
       "      <th></th>\n",
       "      <th></th>\n",
       "      <th></th>\n",
       "      <th></th>\n",
       "      <th></th>\n",
       "      <th></th>\n",
       "      <th></th>\n",
       "      <th></th>\n",
       "      <th></th>\n",
       "      <th></th>\n",
       "      <th></th>\n",
       "      <th></th>\n",
       "      <th></th>\n",
       "      <th></th>\n",
       "    </tr>\n",
       "  </thead>\n",
       "  <tbody>\n",
       "    <tr>\n",
       "      <th>RF00001</th>\n",
       "      <td>3.754821e-07</td>\n",
       "      <td>9.537295e-07</td>\n",
       "      <td>0.118649</td>\n",
       "      <td>0.160706</td>\n",
       "      <td>0.211324</td>\n",
       "      <td>0.218512</td>\n",
       "      <td>0.218103</td>\n",
       "      <td>0.219696</td>\n",
       "      <td>0.000002</td>\n",
       "      <td>0.210995</td>\n",
       "      <td>...</td>\n",
       "      <td>NaN</td>\n",
       "      <td>NaN</td>\n",
       "      <td>NaN</td>\n",
       "      <td>NaN</td>\n",
       "      <td>NaN</td>\n",
       "      <td>NaN</td>\n",
       "      <td>NaN</td>\n",
       "      <td>NaN</td>\n",
       "      <td>NaN</td>\n",
       "      <td>NaN</td>\n",
       "    </tr>\n",
       "    <tr>\n",
       "      <th>RF00002</th>\n",
       "      <td>1.047363e-01</td>\n",
       "      <td>8.602667e-02</td>\n",
       "      <td>0.070314</td>\n",
       "      <td>0.070241</td>\n",
       "      <td>0.062037</td>\n",
       "      <td>0.060046</td>\n",
       "      <td>0.067685</td>\n",
       "      <td>0.061589</td>\n",
       "      <td>0.055337</td>\n",
       "      <td>0.061544</td>\n",
       "      <td>...</td>\n",
       "      <td>NaN</td>\n",
       "      <td>NaN</td>\n",
       "      <td>NaN</td>\n",
       "      <td>NaN</td>\n",
       "      <td>NaN</td>\n",
       "      <td>NaN</td>\n",
       "      <td>NaN</td>\n",
       "      <td>NaN</td>\n",
       "      <td>NaN</td>\n",
       "      <td>NaN</td>\n",
       "    </tr>\n",
       "  </tbody>\n",
       "</table>\n",
       "<p>2 rows × 8395 columns</p>\n",
       "</div>"
      ],
      "text/plain": [
       "                 1             2         3         4         5         6     \\\n",
       "0                                                                             \n",
       "RF00001  3.754821e-07  9.537295e-07  0.118649  0.160706  0.211324  0.218512   \n",
       "RF00002  1.047363e-01  8.602667e-02  0.070314  0.070241  0.062037  0.060046   \n",
       "\n",
       "             7         8         9         10    ...  8386  8387  8388  8389  \\\n",
       "0                                                ...                           \n",
       "RF00001  0.218103  0.219696  0.000002  0.210995  ...   NaN   NaN   NaN   NaN   \n",
       "RF00002  0.067685  0.061589  0.055337  0.061544  ...   NaN   NaN   NaN   NaN   \n",
       "\n",
       "         8390  8391  8392  8393  8394  8395  \n",
       "0                                            \n",
       "RF00001   NaN   NaN   NaN   NaN   NaN   NaN  \n",
       "RF00002   NaN   NaN   NaN   NaN   NaN   NaN  \n",
       "\n",
       "[2 rows x 8395 columns]"
      ]
     },
     "execution_count": 2,
     "metadata": {},
     "output_type": "execute_result"
    }
   ],
   "source": [
    "RIGS_dfs = pd.read_excel('RIGS_sheet.xlsx', sheet_name=None, header=None)\n",
    "\n",
    "for xxx_xx, dataframe in RIGS_dfs.items():\n",
    "    RIGS_dfs[xxx_xx] = dataframe.set_index(0)\n",
    "\n",
    "RIGS_dfs['bear_50'].head(2)"
   ]
  },
  {
   "cell_type": "markdown",
   "metadata": {},
   "source": [
    "For each encoding there is a table of RIG scores: each row is a Rfam family, each column is a position in the alignment of that family."
   ]
  },
  {
   "cell_type": "markdown",
   "metadata": {},
   "source": [
    "Parsing to extract the R-scape power from R-scape output."
   ]
  },
  {
   "cell_type": "code",
   "execution_count": 3,
   "metadata": {},
   "outputs": [],
   "source": [
    "import re\n",
    "\n",
    "RFXXX_to_pos_to_power_dict = {}\n",
    "\n",
    "c_list = []\n",
    "for xxx_txt in sorted(os.listdir(dir_output_rscape)):\n",
    "    path_xxx_txt = os.path.join(dir_output_rscape, xxx_txt)\n",
    "    RFXXX = path_xxx_txt.split('/')[-1].split('.')[0]\n",
    "    #print(path_xxx_txt, RFXXX)\n",
    "    \n",
    "    with open(path_xxx_txt) as f:\n",
    "        file_splitted_list = f.read().split('#----------------------------------------------------------------')\n",
    "        if len(file_splitted_list) != 4:\n",
    "            #print(file_splitted_list)\n",
    "            c_list.append(RFXXX)\n",
    "            continue\n",
    "        \n",
    "        RFXXX_to_pos_to_power_dict[RFXXX] = {}\n",
    "        \n",
    "        for line in file_splitted_list[3].strip('\\n').split('\\n'):\n",
    "            if not line.startswith('#'):\n",
    "                #print(line)\n",
    "                left_pos, right_pos, substitutions, power = re.findall(\"[-+]?[.]?[\\d]+(?:,\\d\\d\\d)*[\\.]?\\d*(?:[eE][-+]?\\d+)?\", line)\n",
    "                #print(line, '-->', left_pos, right_pos, substitutions, power)\n",
    "                \n",
    "                for xxx_pos in [left_pos, right_pos]:\n",
    "                    RFXXX_to_pos_to_power_dict[RFXXX][int(xxx_pos)] = power"
   ]
  },
  {
   "cell_type": "code",
   "execution_count": 4,
   "metadata": {},
   "outputs": [],
   "source": [
    "import matplotlib.pylab as plt\n",
    "import seaborn as sns\n",
    "sns.set()\n",
    "sns.set_context(rc={\"font.size\":0, \"axes.titlesize\": 34, \"axes.labelsize\": 25, \"legend.fontsize\": 20})"
   ]
  },
  {
   "cell_type": "markdown",
   "metadata": {},
   "source": [
    "Parsing to have all the information in one file."
   ]
  },
  {
   "cell_type": "code",
   "execution_count": 5,
   "metadata": {},
   "outputs": [],
   "source": [
    "if not os.path.exists('RIG_and_Rscape.tsv'):\n",
    "    with open('RIG_and_Rscape.tsv', 'w') as fw:\n",
    "        fw.write('\\t'.join(['encoding', 'family_code', 'position', 'score']) + '\\n')\n",
    "\n",
    "        to_append = ''\n",
    "        for xxx_xx, dataframe in RIGS_dfs.items():\n",
    "            c = 0\n",
    "            for RFXXX in dataframe.index:\n",
    "                if RFXXX in RFXXX_to_pos_to_power_dict:\n",
    "                    for i, x in enumerate(dataframe.loc[RFXXX].dropna()):\n",
    "                        pos = i + 1\n",
    "                        power = -1\n",
    "                        if pos in RFXXX_to_pos_to_power_dict[RFXXX]:\n",
    "                            power = RFXXX_to_pos_to_power_dict[RFXXX][pos]\n",
    "                        fw.write('\\t'.join([str(x) for x in [xxx_xx, RFXXX, pos, x]]) + '\\n')\n",
    "\n",
    "                        # Only for one encoding (it is the same for all the others)\n",
    "                        if xxx_xx == 'bear_50':\n",
    "                            to_append += '\\t'.join([str(x) for x in ['rscape', RFXXX, pos, power]]) + '\\n'\n",
    "\n",
    "            print(xxx_xx, dataframe.min().min(), dataframe.max().max(), c)\n",
    "\n",
    "        fw.write(to_append)"
   ]
  },
  {
   "cell_type": "markdown",
   "metadata": {},
   "source": [
    "Read the created file with RIG score and R-scape power values."
   ]
  },
  {
   "cell_type": "code",
   "execution_count": 6,
   "metadata": {},
   "outputs": [
    {
     "name": "stdout",
     "output_type": "stream",
     "text": [
      "Shape: (2184623, 4)\n"
     ]
    },
    {
     "data": {
      "text/html": [
       "<div>\n",
       "<style scoped>\n",
       "    .dataframe tbody tr th:only-of-type {\n",
       "        vertical-align: middle;\n",
       "    }\n",
       "\n",
       "    .dataframe tbody tr th {\n",
       "        vertical-align: top;\n",
       "    }\n",
       "\n",
       "    .dataframe thead th {\n",
       "        text-align: right;\n",
       "    }\n",
       "</style>\n",
       "<table border=\"1\" class=\"dataframe\">\n",
       "  <thead>\n",
       "    <tr style=\"text-align: right;\">\n",
       "      <th></th>\n",
       "      <th>encoding</th>\n",
       "      <th>family_code</th>\n",
       "      <th>position</th>\n",
       "      <th>score</th>\n",
       "    </tr>\n",
       "  </thead>\n",
       "  <tbody>\n",
       "    <tr>\n",
       "      <th>0</th>\n",
       "      <td>bear_50</td>\n",
       "      <td>RF00001</td>\n",
       "      <td>1</td>\n",
       "      <td>3.754821e-07</td>\n",
       "    </tr>\n",
       "    <tr>\n",
       "      <th>1</th>\n",
       "      <td>bear_50</td>\n",
       "      <td>RF00001</td>\n",
       "      <td>2</td>\n",
       "      <td>9.537295e-07</td>\n",
       "    </tr>\n",
       "  </tbody>\n",
       "</table>\n",
       "</div>"
      ],
      "text/plain": [
       "  encoding family_code  position         score\n",
       "0  bear_50     RF00001         1  3.754821e-07\n",
       "1  bear_50     RF00001         2  9.537295e-07"
      ]
     },
     "execution_count": 6,
     "metadata": {},
     "output_type": "execute_result"
    }
   ],
   "source": [
    "rig_and_rscape_df = pd.read_csv('RIG_and_Rscape.tsv', sep = '\\t')\n",
    "print('Shape:', rig_and_rscape_df.shape)\n",
    "\n",
    "rig_and_rscape_df.head(2)"
   ]
  },
  {
   "cell_type": "markdown",
   "metadata": {},
   "source": [
    "**Note**: to execute if you don't want to visualize the RIG scores obtained by removing redundant primary sequences up to 50% of similarity for each Rfam seed alignment."
   ]
  },
  {
   "cell_type": "code",
   "execution_count": 7,
   "metadata": {},
   "outputs": [
    {
     "name": "stdout",
     "output_type": "stream",
     "text": [
      "Shape: (1248356, 4)\n"
     ]
    },
    {
     "data": {
      "text/html": [
       "<div>\n",
       "<style scoped>\n",
       "    .dataframe tbody tr th:only-of-type {\n",
       "        vertical-align: middle;\n",
       "    }\n",
       "\n",
       "    .dataframe tbody tr th {\n",
       "        vertical-align: top;\n",
       "    }\n",
       "\n",
       "    .dataframe thead th {\n",
       "        text-align: right;\n",
       "    }\n",
       "</style>\n",
       "<table border=\"1\" class=\"dataframe\">\n",
       "  <thead>\n",
       "    <tr style=\"text-align: right;\">\n",
       "      <th></th>\n",
       "      <th>encoding</th>\n",
       "      <th>family_code</th>\n",
       "      <th>position</th>\n",
       "      <th>score</th>\n",
       "    </tr>\n",
       "  </thead>\n",
       "  <tbody>\n",
       "    <tr>\n",
       "      <th>312089</th>\n",
       "      <td>bear_90</td>\n",
       "      <td>RF00001</td>\n",
       "      <td>1</td>\n",
       "      <td>3.848197e-07</td>\n",
       "    </tr>\n",
       "    <tr>\n",
       "      <th>312090</th>\n",
       "      <td>bear_90</td>\n",
       "      <td>RF00001</td>\n",
       "      <td>2</td>\n",
       "      <td>9.467619e-07</td>\n",
       "    </tr>\n",
       "  </tbody>\n",
       "</table>\n",
       "</div>"
      ],
      "text/plain": [
       "       encoding family_code  position         score\n",
       "312089  bear_90     RF00001         1  3.848197e-07\n",
       "312090  bear_90     RF00001         2  9.467619e-07"
      ]
     },
     "execution_count": 7,
     "metadata": {},
     "output_type": "execute_result"
    }
   ],
   "source": [
    "rig_and_rscape_df = rig_and_rscape_df[rig_and_rscape_df['encoding'].str.endswith('_50') == False]\n",
    "print('Shape:', rig_and_rscape_df.shape)\n",
    "\n",
    "rig_and_rscape_df.head(2)"
   ]
  },
  {
   "cell_type": "code",
   "execution_count": null,
   "metadata": {},
   "outputs": [],
   "source": [
    "y_min, y_max = -0.01, 1.01\n",
    "\n",
    "if not os.path.exists(dir_output_RIG_RscapePower_plots):\n",
    "    os.mkdir(dir_output_RIG_RscapePower_plots)\n",
    "\n",
    "for RFXXX in rig_and_rscape_df['family_code'].unique():    \n",
    "    path_image = os.path.join(dir_output_RIG_RscapePower_plots, RFXXX + '.rscape.png')\n",
    "    if not os.path.exists(path_image):\n",
    "        #print(RFXXX, rig_and_rscape_df[(rig_and_rscape_df['family_code'] == RFXXX)]['position'].max())\n",
    "        \n",
    "        try:\n",
    "            ax = sns.pointplot(\n",
    "                data = rig_and_rscape_df[(rig_and_rscape_df['family_code'] == RFXXX)], x='position', y='score', hue = 'encoding', fit_reg=False,\n",
    "                markers=[\"o\", \"o\", \"o\", \"x\"],\n",
    "                linestyles=[\"-\", \"-\",  \"-\",  \"--\"]\n",
    "            )\n",
    "\n",
    "            ax.set_title(RFXXX)\n",
    "\n",
    "            ax.set_xlim(-0.5, rig_and_rscape_df[(rig_and_rscape_df['family_code'] == RFXXX)]['position'].max() - 0.5)\n",
    "            ax.set_ylim(y_min, y_max)\n",
    "\n",
    "            ax.set_xticklabels(ax.get_xticklabels(), rotation=90, size = 20)\n",
    "            #ERROR:ax.set_yticklabels(['{:.2f}'.format(float(t.get_text().replace('−', '-'))) for t in ax.get_yticklabels()], size = 25)\n",
    "            ax.set_yticklabels(ax.get_yticklabels(), size = 25)\n",
    "\n",
    "            ax.set_yticks([y_min, 0, 0.25, 0.5, 0.75, 1, y_max]) \n",
    "            ax.set_yticklabels(['', '0', '0.25', '0.5', '0.75', '1', ''], size = 25) # set the labels\n",
    "\n",
    "            fig = ax.get_figure()\n",
    "            fig.set_size_inches(rig_and_rscape_df[(rig_and_rscape_df['family_code'] == RFXXX)]['position'].max()/3, 10)\n",
    "            \n",
    "            #plt.setp(ax.get_legend().get_texts(), fontsize='22') # for legend text\n",
    "            plt.setp(ax.get_legend().get_title(), fontsize='24') # for legend title\n",
    "\n",
    "            fig.tight_layout()\n",
    "\n",
    "            for x in rig_and_rscape_df[(rig_and_rscape_df['family_code'] == RFXXX) & (rig_and_rscape_df['encoding'] == 'rscape')][['position', 'score']].iterrows():\n",
    "                position, rscape_power = x[1]\n",
    "                #print(position, rscape_power)\n",
    "                if rscape_power < 0:\n",
    "                    #ax.axvspan(xmin=position-2, xmax=position-1, ymin=-1, ymax=1, facecolor='b', alpha=0.5)\n",
    "                    ax.axvspan(xmin=position-1.5, xmax=position-0.5, ymin=-1, ymax=1, facecolor='g', alpha=0.5)\n",
    "            fig.savefig(path_image)\n",
    "            fig.clf();\n",
    "        except:\n",
    "            print('Problem with ' + RFXXX)"
   ]
  },
  {
   "cell_type": "code",
   "execution_count": null,
   "metadata": {},
   "outputs": [],
   "source": []
  }
 ],
 "metadata": {
  "kernelspec": {
   "display_name": "Python 3",
   "language": "python",
   "name": "python3"
  },
  "language_info": {
   "codemirror_mode": {
    "name": "ipython",
    "version": 3
   },
   "file_extension": ".py",
   "mimetype": "text/x-python",
   "name": "python",
   "nbconvert_exporter": "python",
   "pygments_lexer": "ipython3",
   "version": "3.8.2"
  }
 },
 "nbformat": 4,
 "nbformat_minor": 4
}
